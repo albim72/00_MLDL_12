{
 "cells":[
  {
   "cell_type":"code",
   "source":[
    "# import numpy \n",
    "import numpy as np"
   ],
   "execution_count":1,
   "outputs":[
    
   ],
   "metadata":{
    "datalore":{
     "node_id":"mh9OZsdea0Ul8qKUFH1eLu",
     "type":"CODE",
     "hide_input_from_viewers":true,
     "hide_output_from_viewers":true
    }
   }
  },
  {
   "cell_type":"code",
   "source":[
    "# create tensor based on 32 elements vector \n",
    "\n",
    "# Importing the necessary library\n",
    "import torch\n",
    "\n",
    "# Creating a 32-elements vector\n",
    "vector = list(range(32))\n",
    "\n",
    "# Converting the list into a tensor\n",
    "tensor = torch.tensor(vector)\n",
    "\n",
    "# Now let's print the tensor and verify our results\n",
    "print(tensor)"
   ],
   "execution_count":2,
   "outputs":[
    {
     "name":"stdout",
     "text":[
      "tensor([ 0,  1,  2,  3,  4,  5,  6,  7,  8,  9, 10, 11, 12, 13, 14, 15, 16, 17,\n",
      "        18, 19, 20, 21, 22, 23, 24, 25, 26, 27, 28, 29, 30, 31])\n"
     ],
     "output_type":"stream"
    }
   ],
   "metadata":{
    "datalore":{
     "node_id":"2RAGhSNqq5bXEuBGJJU3d5",
     "type":"CODE",
     "hide_input_from_viewers":true,
     "hide_output_from_viewers":true
    }
   }
  },
  {
   "cell_type":"markdown",
   "source":[
    "To jest pierwszy **notebook** oparty o mechanizm <span style=\"color:red; font-weight:bold; font-size:18pt\">Jupyter Notebook<\/span>.\n",
    "<p><img src=\"gwiazda.jpg\" width=400><\/p>"
   ],
   "attachments":{
    
   },
   "metadata":{
    "datalore":{
     "node_id":"8oVAnBjFTvEq2gn8eLHt7m",
     "type":"MD",
     "hide_input_from_viewers":true,
     "hide_output_from_viewers":true
    }
   }
  },
  {
   "cell_type":"code",
   "source":[
    "w = np.array([[1,2,3,4],[9,10,11,14],[35,36,37,40]])\n",
    "w"
   ],
   "execution_count":3,
   "outputs":[
    {
     "data":{
      "text\/html":[
       "<pre>array([[ 1,  2,  3,  4],\n",
       "       [ 9, 10, 11, 14],\n",
       "       [35, 36, 37, 40]])<\/pre>"
      ]
     },
     "metadata":{
      
     },
     "output_type":"display_data"
    }
   ],
   "metadata":{
    "datalore":{
     "node_id":"WCN74tYMBC0saW1zysn99e",
     "type":"CODE",
     "hide_input_from_viewers":true,
     "hide_output_from_viewers":true
    }
   }
  },
  {
   "cell_type":"code",
   "source":[
    "w[w<5]"
   ],
   "execution_count":4,
   "outputs":[
    {
     "data":{
      "text\/html":[
       "<pre>array([1, 2, 3, 4])<\/pre>"
      ]
     },
     "metadata":{
      
     },
     "output_type":"display_data"
    }
   ],
   "metadata":{
    "datalore":{
     "node_id":"5QZmOX0CzOyteLzfd6uf0G",
     "type":"CODE",
     "hide_input_from_viewers":true,
     "hide_output_from_viewers":true
    }
   }
  },
  {
   "cell_type":"code",
   "source":[
    "pc = (w>5)\n",
    "w[pc]"
   ],
   "execution_count":5,
   "outputs":[
    {
     "data":{
      "text\/html":[
       "<pre>array([ 9, 10, 11, 14, 35, 36, 37, 40])<\/pre>"
      ]
     },
     "metadata":{
      
     },
     "output_type":"display_data"
    }
   ],
   "metadata":{
    "datalore":{
     "node_id":"U3IPHxjWXf5jnyPpSE1mGh",
     "type":"CODE",
     "hide_input_from_viewers":true,
     "hide_output_from_viewers":true
    }
   }
  },
  {
   "cell_type":"code",
   "source":[
    "logw = (w%2==0)\n",
    "w[logw]"
   ],
   "execution_count":6,
   "outputs":[
    {
     "data":{
      "text\/html":[
       "<pre>array([ 2,  4, 10, 14, 36, 40])<\/pre>"
      ]
     },
     "metadata":{
      
     },
     "output_type":"display_data"
    }
   ],
   "metadata":{
    "datalore":{
     "node_id":"ohNuAviqhIxnwfGzi12819",
     "type":"CODE",
     "hide_input_from_viewers":true,
     "hide_output_from_viewers":true
    }
   }
  },
  {
   "cell_type":"code",
   "source":[
    "cv = w[(w>2) & (w<=21)]\n",
    "cv"
   ],
   "execution_count":7,
   "outputs":[
    {
     "data":{
      "text\/html":[
       "<pre>array([ 3,  4,  9, 10, 11, 14])<\/pre>"
      ]
     },
     "metadata":{
      
     },
     "output_type":"display_data"
    }
   ],
   "metadata":{
    "datalore":{
     "node_id":"pDd19pinooQW8GpZyiVGx6",
     "type":"CODE",
     "hide_input_from_viewers":true,
     "hide_output_from_viewers":true
    }
   }
  },
  {
   "cell_type":"code",
   "source":[
    "sv = w[(w<8) | (w>=35)]\n",
    "sv"
   ],
   "execution_count":8,
   "outputs":[
    {
     "data":{
      "text\/html":[
       "<pre>array([ 1,  2,  3,  4, 35, 36, 37, 40])<\/pre>"
      ]
     },
     "metadata":{
      
     },
     "output_type":"display_data"
    }
   ],
   "metadata":{
    "datalore":{
     "node_id":"3WpbuiXAkIS1K1cxZxSpeu",
     "type":"CODE",
     "hide_input_from_viewers":true,
     "hide_output_from_viewers":true
    }
   }
  },
  {
   "cell_type":"code",
   "source":[
    "dane = np.array([1,3,8])\n",
    "one = np.ones(3,dtype=int)\n",
    "tw = np.array([2,2,3])"
   ],
   "execution_count":9,
   "outputs":[
    
   ],
   "metadata":{
    "datalore":{
     "node_id":"4PUZ8CsjugYPYNzVzx3Vu3",
     "type":"CODE",
     "hide_input_from_viewers":true,
     "hide_output_from_viewers":true
    }
   }
  },
  {
   "cell_type":"code",
   "source":[
    "print(dane+one)"
   ],
   "execution_count":10,
   "outputs":[
    {
     "name":"stdout",
     "text":[
      "[2 4 9]\n"
     ],
     "output_type":"stream"
    }
   ],
   "metadata":{
    "datalore":{
     "node_id":"zE5rVHlDZVoftJyBOuJb1q",
     "type":"CODE",
     "hide_input_from_viewers":true,
     "hide_output_from_viewers":true
    }
   }
  },
  {
   "cell_type":"code",
   "source":[
    "print(dane-one)"
   ],
   "execution_count":11,
   "outputs":[
    {
     "name":"stdout",
     "text":[
      "[0 2 7]\n"
     ],
     "output_type":"stream"
    }
   ],
   "metadata":{
    "datalore":{
     "node_id":"NUBSZ1SIxmO3qeOJoi1sPV",
     "type":"CODE",
     "hide_input_from_viewers":true,
     "hide_output_from_viewers":true
    }
   }
  },
  {
   "cell_type":"code",
   "source":[
    "print(dane*tw)"
   ],
   "execution_count":12,
   "outputs":[
    {
     "name":"stdout",
     "text":[
      "[ 2  6 24]\n"
     ],
     "output_type":"stream"
    }
   ],
   "metadata":{
    "datalore":{
     "node_id":"qMm5H8tZUfotltee4CdVdn",
     "type":"CODE",
     "hide_input_from_viewers":true,
     "hide_output_from_viewers":true
    }
   }
  },
  {
   "cell_type":"code",
   "source":[
    "print(dane\/tw)"
   ],
   "execution_count":13,
   "outputs":[
    {
     "name":"stdout",
     "text":[
      "[0.5        1.5        2.66666667]\n"
     ],
     "output_type":"stream"
    }
   ],
   "metadata":{
    "datalore":{
     "node_id":"xzme9CTUM8zCIkf6bsZU6e",
     "type":"CODE",
     "hide_input_from_viewers":true,
     "hide_output_from_viewers":true
    }
   }
  },
  {
   "cell_type":"code",
   "source":[
    "print(dane*1.88)"
   ],
   "execution_count":14,
   "outputs":[
    {
     "name":"stdout",
     "text":[
      "[ 1.88  5.64 15.04]\n"
     ],
     "output_type":"stream"
    }
   ],
   "metadata":{
    "datalore":{
     "node_id":"Bmn26VXW8fVbGpdsNPlGEF",
     "type":"CODE",
     "hide_input_from_viewers":true,
     "hide_output_from_viewers":true
    }
   }
  },
  {
   "cell_type":"code",
   "source":[
    "m1 = np.array([[4,8,11],[67,101,3],[1,1,77]])\n",
    "m2 = np.array([[488,9,3],[23,89,3],[2,4,11]])\n",
    "\n",
    "wynik = (m1+m2)*m1\n",
    "wynik"
   ],
   "execution_count":15,
   "outputs":[
    {
     "data":{
      "text\/html":[
       "<pre>array([[ 1968,   136,   154],\n",
       "       [ 6030, 19190,    18],\n",
       "       [    3,     5,  6776]])<\/pre>"
      ]
     },
     "metadata":{
      
     },
     "output_type":"display_data"
    }
   ],
   "metadata":{
    "datalore":{
     "node_id":"SjJHd08EmUk5Zexg3ccHf8",
     "type":"CODE",
     "hide_input_from_viewers":true,
     "hide_output_from_viewers":true
    }
   }
  },
  {
   "cell_type":"code",
   "source":[
    "print(f'wartość minimum: {wynik.min()}')\n",
    "print(f'wartość maksimum: {wynik.max()}')\n",
    "print(f'wartość średnia: {wynik.mean()}')\n",
    "print(f'wartość std: {wynik.std()}')"
   ],
   "execution_count":17,
   "outputs":[
    {
     "name":"stdout",
     "text":[
      "wartość minimum: 3\n",
      "wartość maksimum: 19190\n",
      "wartość średnia: 3808.8888888888887\n",
      "wartość std: 5998.870809381906\n"
     ],
     "output_type":"stream"
    }
   ],
   "metadata":{
    "datalore":{
     "node_id":"Q3dMQDE20PMcFjTtJNCMX0",
     "type":"CODE",
     "hide_input_from_viewers":true,
     "hide_output_from_viewers":true
    }
   }
  },
  {
   "cell_type":"code",
   "source":[
    "#tensor\n",
    "arr = np.arange(16).reshape((2,2,4))\n",
    "arr"
   ],
   "execution_count":18,
   "outputs":[
    {
     "data":{
      "text\/plain":[
       "array([[[ 0,  1,  2,  3],\n",
       "        [ 4,  5,  6,  7]],\n",
       "\n",
       "       [[ 8,  9, 10, 11],\n",
       "        [12, 13, 14, 15]]])"
      ]
     },
     "metadata":{
      
     },
     "output_type":"display_data"
    }
   ],
   "metadata":{
    "datalore":{
     "node_id":"JFFr0ebNBEHxOLxBy9pgkz",
     "type":"CODE",
     "hide_input_from_viewers":true,
     "hide_output_from_viewers":true
    }
   }
  },
  {
   "cell_type":"code",
   "source":[
    "#tablica 5D\n",
    "\n",
    "arr5 = np.arange(240).reshape((2,2,4,5,3))\n",
    "arr5"
   ],
   "execution_count":19,
   "outputs":[
    {
     "data":{
      "text\/plain":[
       "array([[[[[  0,   1,   2],\n",
       "          [  3,   4,   5],\n",
       "          [  6,   7,   8],\n",
       "          [  9,  10,  11],\n",
       "          [ 12,  13,  14]],\n",
       "\n",
       "         [[ 15,  16,  17],\n",
       "          [ 18,  19,  20],\n",
       "          [ 21,  22,  23],\n",
       "          [ 24,  25,  26],\n",
       "          [ 27,  28,  29]],\n",
       "\n",
       "         [[ 30,  31,  32],\n",
       "          [ 33,  34,  35],\n",
       "          [ 36,  37,  38],\n",
       "          [ 39,  40,  41],\n",
       "          [ 42,  43,  44]],\n",
       "\n",
       "         [[ 45,  46,  47],\n",
       "          [ 48,  49,  50],\n",
       "          [ 51,  52,  53],\n",
       "          [ 54,  55,  56],\n",
       "          [ 57,  58,  59]]],\n",
       "\n",
       "\n",
       "        [[[ 60,  61,  62],\n",
       "          [ 63,  64,  65],\n",
       "          [ 66,  67,  68],\n",
       "          [ 69,  70,  71],\n",
       "          [ 72,  73,  74]],\n",
       "\n",
       "         [[ 75,  76,  77],\n",
       "          [ 78,  79,  80],\n",
       "          [ 81,  82,  83],\n",
       "          [ 84,  85,  86],\n",
       "          [ 87,  88,  89]],\n",
       "\n",
       "         [[ 90,  91,  92],\n",
       "          [ 93,  94,  95],\n",
       "          [ 96,  97,  98],\n",
       "          [ 99, 100, 101],\n",
       "          [102, 103, 104]],\n",
       "\n",
       "         [[105, 106, 107],\n",
       "          [108, 109, 110],\n",
       "          [111, 112, 113],\n",
       "          [114, 115, 116],\n",
       "          [117, 118, 119]]]],\n",
       "\n",
       "\n",
       "\n",
       "       [[[[120, 121, 122],\n",
       "          [123, 124, 125],\n",
       "          [126, 127, 128],\n",
       "          [129, 130, 131],\n",
       "          [132, 133, 134]],\n",
       "\n",
       "         [[135, 136, 137],\n",
       "          [138, 139, 140],\n",
       "          [141, 142, 143],\n",
       "          [144, 145, 146],\n",
       "          [147, 148, 149]],\n",
       "\n",
       "         [[150, 151, 152],\n",
       "          [153, 154, 155],\n",
       "          [156, 157, 158],\n",
       "          [159, 160, 161],\n",
       "          [162, 163, 164]],\n",
       "\n",
       "         [[165, 166, 167],\n",
       "          [168, 169, 170],\n",
       "          [171, 172, 173],\n",
       "          [174, 175, 176],\n",
       "          [177, 178, 179]]],\n",
       "\n",
       "\n",
       "        [[[180, 181, 182],\n",
       "          [183, 184, 185],\n",
       "          [186, 187, 188],\n",
       "          [189, 190, 191],\n",
       "          [192, 193, 194]],\n",
       "\n",
       "         [[195, 196, 197],\n",
       "          [198, 199, 200],\n",
       "          [201, 202, 203],\n",
       "          [204, 205, 206],\n",
       "          [207, 208, 209]],\n",
       "\n",
       "         [[210, 211, 212],\n",
       "          [213, 214, 215],\n",
       "          [216, 217, 218],\n",
       "          [219, 220, 221],\n",
       "          [222, 223, 224]],\n",
       "\n",
       "         [[225, 226, 227],\n",
       "          [228, 229, 230],\n",
       "          [231, 232, 233],\n",
       "          [234, 235, 236],\n",
       "          [237, 238, 239]]]]])"
      ]
     },
     "metadata":{
      
     },
     "output_type":"display_data"
    }
   ],
   "metadata":{
    "datalore":{
     "node_id":"k62xWudzlqVbNVJrdoV2SF",
     "type":"CODE",
     "hide_input_from_viewers":true,
     "hide_output_from_viewers":true
    }
   }
  },
  {
   "cell_type":"code",
   "source":[
    "arr = np.arange(10)\n",
    "arr"
   ],
   "execution_count":21,
   "outputs":[
    {
     "data":{
      "text\/html":[
       "<pre>array([0, 1, 2, 3, 4, 5, 6, 7, 8, 9])<\/pre>"
      ]
     },
     "metadata":{
      
     },
     "output_type":"display_data"
    }
   ],
   "metadata":{
    "datalore":{
     "node_id":"hl8ivyKSTx43RenR0WTwW1",
     "type":"CODE",
     "hide_input_from_viewers":true,
     "hide_output_from_viewers":true
    }
   }
  },
  {
   "cell_type":"code",
   "source":[
    "np.sqrt(arr)"
   ],
   "execution_count":22,
   "outputs":[
    {
     "data":{
      "text\/html":[
       "<pre>array([0.        , 1.        , 1.41421356, 1.73205081, 2.        ,\n",
       "       2.23606798, 2.44948974, 2.64575131, 2.82842712, 3.        ])<\/pre>"
      ]
     },
     "metadata":{
      
     },
     "output_type":"display_data"
    }
   ],
   "metadata":{
    "datalore":{
     "node_id":"QUcxstt0drZt6XNzV60xGK",
     "type":"CODE",
     "hide_input_from_viewers":true,
     "hide_output_from_viewers":true
    }
   }
  }
 ],
 "metadata":{
  "kernelspec":{
   "display_name":"Python",
   "language":"python",
   "name":"python"
  },
  "datalore":{
   "computation_mode":"JUPYTER",
   "package_manager":"pip",
   "base_environment":"default",
   "packages":[
    
   ],
   "report_row_ids":[
    
   ],
   "version":3
  }
 },
 "nbformat":4,
 "nbformat_minor":4
}