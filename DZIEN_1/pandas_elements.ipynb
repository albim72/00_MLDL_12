{
 "cells":[
  {
   "cell_type":"code",
   "source":[
    "import pandas as pd\n",
    "import numpy as np"
   ],
   "execution_count":13,
   "outputs":[
    
   ],
   "metadata":{
    "datalore":{
     "node_id":"WOF2F5eImLztUlekejjPox",
     "type":"CODE",
     "hide_input_from_viewers":true,
     "hide_output_from_viewers":true
    }
   }
  },
  {
   "cell_type":"code",
   "source":[
    "s1 = pd.Series([4,6,-7,12,3,5],index=['a','b','d','n','r','x'])\n",
    "s1"
   ],
   "execution_count":3,
   "outputs":[
    {
     "data":{
      "text\/html":[
       "<pre>a     4\n",
       "b     6\n",
       "d    -7\n",
       "n    12\n",
       "r     3\n",
       "x     5\n",
       "dtype: int64<\/pre>"
      ]
     },
     "metadata":{
      
     },
     "output_type":"display_data"
    }
   ],
   "metadata":{
    "datalore":{
     "node_id":"ssmf39oHsarp7ymYJSzNqu",
     "type":"CODE",
     "hide_input_from_viewers":true,
     "hide_output_from_viewers":true
    }
   }
  },
  {
   "cell_type":"code",
   "source":[
    "sdata = {'Warszawa':445,'Lublin':432,'Kraków':543,'Gdańsk':512}\n",
    "s2 = pd.Series(sdata)\n",
    "s2"
   ],
   "execution_count":5,
   "outputs":[
    {
     "data":{
      "text\/html":[
       "<pre>Warszawa    445\n",
       "Lublin      432\n",
       "Kraków      543\n",
       "Gdańsk      512\n",
       "dtype: int64<\/pre>"
      ]
     },
     "metadata":{
      
     },
     "output_type":"display_data"
    }
   ],
   "metadata":{
    "datalore":{
     "node_id":"PRAmGzJ0mgdSQfIXfJBbDF",
     "type":"CODE",
     "hide_input_from_viewers":true,
     "hide_output_from_viewers":true
    }
   }
  },
  {
   "cell_type":"code",
   "source":[
    "#obiekt DataFrame\n",
    "data = {'miasto':['Warszawa','Lublin','Wrocław','Kraków'],\n",
    "        'wnioski':[234,123,177,210],\n",
    "        'projekty':[4,5,3,7]}\n",
    "\n",
    "frame = pd.DataFrame(data,index=[10,11,12,13])\n",
    "frame"
   ],
   "execution_count":7,
   "outputs":[
    {
     "data":{
      "text\/html":[
       "<div>\n",
       "<style scoped>\n",
       "    .dataframe tbody tr th:only-of-type {\n",
       "        vertical-align: middle;\n",
       "    }\n",
       "\n",
       "    .dataframe tbody tr th {\n",
       "        vertical-align: top;\n",
       "    }\n",
       "\n",
       "    .dataframe thead th {\n",
       "        text-align: right;\n",
       "    }\n",
       "<\/style>\n",
       "<table border=\"1\" class=\"dataframe\">\n",
       "  <thead>\n",
       "    <tr style=\"text-align: right;\">\n",
       "      <th><\/th>\n",
       "      <th>miasto<\/th>\n",
       "      <th>wnioski<\/th>\n",
       "      <th>projekty<\/th>\n",
       "    <\/tr>\n",
       "  <\/thead>\n",
       "  <tbody>\n",
       "    <tr>\n",
       "      <th>10<\/th>\n",
       "      <td>Warszawa<\/td>\n",
       "      <td>234<\/td>\n",
       "      <td>4<\/td>\n",
       "    <\/tr>\n",
       "    <tr>\n",
       "      <th>11<\/th>\n",
       "      <td>Lublin<\/td>\n",
       "      <td>123<\/td>\n",
       "      <td>5<\/td>\n",
       "    <\/tr>\n",
       "    <tr>\n",
       "      <th>12<\/th>\n",
       "      <td>Wrocław<\/td>\n",
       "      <td>177<\/td>\n",
       "      <td>3<\/td>\n",
       "    <\/tr>\n",
       "    <tr>\n",
       "      <th>13<\/th>\n",
       "      <td>Kraków<\/td>\n",
       "      <td>210<\/td>\n",
       "      <td>7<\/td>\n",
       "    <\/tr>\n",
       "  <\/tbody>\n",
       "<\/table>\n",
       "<\/div>"
      ]
     },
     "metadata":{
      
     },
     "output_type":"display_data"
    }
   ],
   "metadata":{
    "datalore":{
     "node_id":"wPLcssDevUaur7exvX5hiF",
     "type":"CODE",
     "hide_input_from_viewers":true,
     "hide_output_from_viewers":true
    }
   }
  },
  {
   "cell_type":"code",
   "source":[
    "daty = pd.date_range(\"20231218\",periods=6)\n",
    "daty"
   ],
   "execution_count":12,
   "outputs":[
    {
     "data":{
      "text\/plain":[
       "DatetimeIndex(['2023-12-18', '2023-12-19', '2023-12-20', '2023-12-21',\n",
       "               '2023-12-22', '2023-12-23'],\n",
       "              dtype='datetime64[ns]', freq='D')"
      ]
     },
     "metadata":{
      
     },
     "output_type":"display_data"
    }
   ],
   "metadata":{
    "datalore":{
     "node_id":"BP9NxdJcLopBgSCrDYNVth",
     "type":"CODE",
     "hide_input_from_viewers":true,
     "hide_output_from_viewers":true
    }
   }
  },
  {
   "cell_type":"code",
   "source":[
    "df = pd.DataFrame(np.random.randn(6,4),index=daty, columns=list(\"ABCD\"))\n",
    "df"
   ],
   "execution_count":14,
   "outputs":[
    {
     "data":{
      "text\/html":[
       "<div>\n",
       "<style scoped>\n",
       "    .dataframe tbody tr th:only-of-type {\n",
       "        vertical-align: middle;\n",
       "    }\n",
       "\n",
       "    .dataframe tbody tr th {\n",
       "        vertical-align: top;\n",
       "    }\n",
       "\n",
       "    .dataframe thead th {\n",
       "        text-align: right;\n",
       "    }\n",
       "<\/style>\n",
       "<table border=\"1\" class=\"dataframe\">\n",
       "  <thead>\n",
       "    <tr style=\"text-align: right;\">\n",
       "      <th><\/th>\n",
       "      <th>A<\/th>\n",
       "      <th>B<\/th>\n",
       "      <th>C<\/th>\n",
       "      <th>D<\/th>\n",
       "    <\/tr>\n",
       "  <\/thead>\n",
       "  <tbody>\n",
       "    <tr>\n",
       "      <th>2023-12-18<\/th>\n",
       "      <td>0.026036<\/td>\n",
       "      <td>-0.022440<\/td>\n",
       "      <td>-0.287866<\/td>\n",
       "      <td>-0.789896<\/td>\n",
       "    <\/tr>\n",
       "    <tr>\n",
       "      <th>2023-12-19<\/th>\n",
       "      <td>0.972007<\/td>\n",
       "      <td>-0.272900<\/td>\n",
       "      <td>-0.053755<\/td>\n",
       "      <td>-2.336839<\/td>\n",
       "    <\/tr>\n",
       "    <tr>\n",
       "      <th>2023-12-20<\/th>\n",
       "      <td>-0.077697<\/td>\n",
       "      <td>-0.517591<\/td>\n",
       "      <td>0.051669<\/td>\n",
       "      <td>-0.674484<\/td>\n",
       "    <\/tr>\n",
       "    <tr>\n",
       "      <th>2023-12-21<\/th>\n",
       "      <td>-0.521587<\/td>\n",
       "      <td>0.880617<\/td>\n",
       "      <td>0.259996<\/td>\n",
       "      <td>-0.308761<\/td>\n",
       "    <\/tr>\n",
       "    <tr>\n",
       "      <th>2023-12-22<\/th>\n",
       "      <td>-1.629656<\/td>\n",
       "      <td>0.972929<\/td>\n",
       "      <td>1.052062<\/td>\n",
       "      <td>1.290387<\/td>\n",
       "    <\/tr>\n",
       "    <tr>\n",
       "      <th>2023-12-23<\/th>\n",
       "      <td>0.073748<\/td>\n",
       "      <td>-0.550101<\/td>\n",
       "      <td>-1.659471<\/td>\n",
       "      <td>0.115115<\/td>\n",
       "    <\/tr>\n",
       "  <\/tbody>\n",
       "<\/table>\n",
       "<\/div>"
      ]
     },
     "metadata":{
      
     },
     "output_type":"display_data"
    }
   ],
   "metadata":{
    "datalore":{
     "node_id":"SuiUH20TeoanHTy1OPvT0z",
     "type":"CODE",
     "hide_input_from_viewers":true,
     "hide_output_from_viewers":true
    }
   }
  }
 ],
 "metadata":{
  "kernelspec":{
   "display_name":"Python",
   "language":"python",
   "name":"python"
  },
  "datalore":{
   "computation_mode":"JUPYTER",
   "package_manager":"pip",
   "base_environment":"default",
   "packages":[
    
   ],
   "report_row_ids":[
    
   ],
   "version":3
  }
 },
 "nbformat":4,
 "nbformat_minor":4
}