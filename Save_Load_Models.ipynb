{
  "nbformat": 4,
  "nbformat_minor": 0,
  "metadata": {
    "colab": {
      "provenance": [],
      "authorship_tag": "ABX9TyPIGwnROhEOfG7D6AK38A1c",
      "include_colab_link": true
    },
    "kernelspec": {
      "name": "python3",
      "display_name": "Python 3"
    },
    "language_info": {
      "name": "python"
    }
  },
  "cells": [
    {
      "cell_type": "markdown",
      "metadata": {
        "id": "view-in-github",
        "colab_type": "text"
      },
      "source": [
        "<a href=\"https://colab.research.google.com/github/albim72/00_MLDL_12/blob/main/Save_Load_Models.ipynb\" target=\"_parent\"><img src=\"https://colab.research.google.com/assets/colab-badge.svg\" alt=\"Open In Colab\"/></a>"
      ]
    },
    {
      "cell_type": "code",
      "execution_count": 1,
      "metadata": {
        "id": "tagTEtKNpG8Q"
      },
      "outputs": [],
      "source": [
        "import os\n",
        "import tensorflow as tf\n",
        "from tensorflow import keras"
      ]
    },
    {
      "cell_type": "code",
      "source": [
        "!pip install pyyaml h5py"
      ],
      "metadata": {
        "colab": {
          "base_uri": "https://localhost:8080/"
        },
        "id": "F1kWlJiNptRM",
        "outputId": "bee25674-50c4-44a9-cad0-d2e5ef0ef161"
      },
      "execution_count": 2,
      "outputs": [
        {
          "output_type": "stream",
          "name": "stdout",
          "text": [
            "Requirement already satisfied: pyyaml in /usr/local/lib/python3.10/dist-packages (6.0.1)\n",
            "Requirement already satisfied: h5py in /usr/local/lib/python3.10/dist-packages (3.9.0)\n",
            "Requirement already satisfied: numpy>=1.17.3 in /usr/local/lib/python3.10/dist-packages (from h5py) (1.23.5)\n"
          ]
        }
      ]
    },
    {
      "cell_type": "code",
      "source": [
        "#pobranie zbioru danych MNIST\n",
        "(train_images,train_labels),(test_images,test_labels) = tf.keras.datasets.mnist.load_data()\n",
        "\n",
        "train_labels = train_labels[:1000]\n",
        "test_labels = test_labels[:1000]\n",
        "\n",
        "train_images = train_images[:1000].reshape(-1,28*28)/255.0\n",
        "test_images = test_images[:1000].reshape(-1,28*28)/255.0"
      ],
      "metadata": {
        "colab": {
          "base_uri": "https://localhost:8080/"
        },
        "id": "uIH-6TIqp8gh",
        "outputId": "c5995dce-6258-4123-afbb-c03d17a018a4"
      },
      "execution_count": 3,
      "outputs": [
        {
          "output_type": "stream",
          "name": "stdout",
          "text": [
            "Downloading data from https://storage.googleapis.com/tensorflow/tf-keras-datasets/mnist.npz\n",
            "11490434/11490434 [==============================] - 0s 0us/step\n"
          ]
        }
      ]
    },
    {
      "cell_type": "code",
      "source": [
        "#zdefinowanie modelu\n",
        "\n",
        "def create_model():\n",
        "  model = tf.keras.models.Sequential([\n",
        "      keras.layers.Dense(512,activation='relu',input_shape=(784,)),\n",
        "      keras.layers.Dropout(0.2),\n",
        "      keras.layers.Dense(10)\n",
        "  ])\n",
        "  model.compile(optimizer='adam',\n",
        "                loss=tf.losses.SparseCategoricalCrossentropy(from_logits=True),\n",
        "                metrics = [tf.metrics.SparseCategoricalAccuracy()])\n",
        "  return model"
      ],
      "metadata": {
        "id": "IqkCicyMq9h7"
      },
      "execution_count": 4,
      "outputs": []
    },
    {
      "cell_type": "code",
      "source": [
        "model = create_model()\n",
        "model.summary()"
      ],
      "metadata": {
        "colab": {
          "base_uri": "https://localhost:8080/"
        },
        "id": "iOs3sKxPtFAx",
        "outputId": "ba2cc493-0d9d-48d9-b7f8-43546134dd64"
      },
      "execution_count": 5,
      "outputs": [
        {
          "output_type": "stream",
          "name": "stdout",
          "text": [
            "Model: \"sequential\"\n",
            "_________________________________________________________________\n",
            " Layer (type)                Output Shape              Param #   \n",
            "=================================================================\n",
            " dense (Dense)               (None, 512)               401920    \n",
            "                                                                 \n",
            " dropout (Dropout)           (None, 512)               0         \n",
            "                                                                 \n",
            " dense_1 (Dense)             (None, 10)                5130      \n",
            "                                                                 \n",
            "=================================================================\n",
            "Total params: 407050 (1.55 MB)\n",
            "Trainable params: 407050 (1.55 MB)\n",
            "Non-trainable params: 0 (0.00 Byte)\n",
            "_________________________________________________________________\n"
          ]
        }
      ]
    },
    {
      "cell_type": "code",
      "source": [
        "checkpoint_path = 'training_1/cp.ckpt'\n",
        "checkpoint_dir = os.path.dirname(checkpoint_path)\n",
        "\n",
        "cp_callback = tf.keras.callbacks.ModelCheckpoint(filepath=checkpoint_path,\n",
        "                                                 save_weights_only=True,\n",
        "                                                 verbose=1)\n",
        "\n",
        "model.fit(train_images,\n",
        "          train_labels,\n",
        "          epochs=10,\n",
        "          validation_data=(test_images, test_labels),\n",
        "          callbacks=[cp_callback])"
      ],
      "metadata": {
        "colab": {
          "base_uri": "https://localhost:8080/"
        },
        "id": "ntJqt9m_tTi8",
        "outputId": "734ac8a5-8e52-487b-915e-d7cd47957d33"
      },
      "execution_count": 6,
      "outputs": [
        {
          "output_type": "stream",
          "name": "stdout",
          "text": [
            "Epoch 1/10\n",
            "28/32 [=========================>....] - ETA: 0s - loss: 1.1822 - sparse_categorical_accuracy: 0.6518\n",
            "Epoch 1: saving model to training_1/cp.ckpt\n",
            "32/32 [==============================] - 2s 25ms/step - loss: 1.1361 - sparse_categorical_accuracy: 0.6590 - val_loss: 0.7472 - val_sparse_categorical_accuracy: 0.7580\n",
            "Epoch 2/10\n",
            "32/32 [==============================] - ETA: 0s - loss: 0.4208 - sparse_categorical_accuracy: 0.8780\n",
            "Epoch 2: saving model to training_1/cp.ckpt\n",
            "32/32 [==============================] - 1s 16ms/step - loss: 0.4208 - sparse_categorical_accuracy: 0.8780 - val_loss: 0.5390 - val_sparse_categorical_accuracy: 0.8300\n",
            "Epoch 3/10\n",
            "32/32 [==============================] - ETA: 0s - loss: 0.2877 - sparse_categorical_accuracy: 0.9200\n",
            "Epoch 3: saving model to training_1/cp.ckpt\n",
            "32/32 [==============================] - 0s 16ms/step - loss: 0.2877 - sparse_categorical_accuracy: 0.9200 - val_loss: 0.4566 - val_sparse_categorical_accuracy: 0.8550\n",
            "Epoch 4/10\n",
            "27/32 [========================>.....] - ETA: 0s - loss: 0.2108 - sparse_categorical_accuracy: 0.9502\n",
            "Epoch 4: saving model to training_1/cp.ckpt\n",
            "32/32 [==============================] - 0s 15ms/step - loss: 0.2145 - sparse_categorical_accuracy: 0.9490 - val_loss: 0.4546 - val_sparse_categorical_accuracy: 0.8630\n",
            "Epoch 5/10\n",
            "30/32 [===========================>..] - ETA: 0s - loss: 0.1675 - sparse_categorical_accuracy: 0.9563\n",
            "Epoch 5: saving model to training_1/cp.ckpt\n",
            "32/32 [==============================] - 1s 16ms/step - loss: 0.1649 - sparse_categorical_accuracy: 0.9580 - val_loss: 0.4082 - val_sparse_categorical_accuracy: 0.8730\n",
            "Epoch 6/10\n",
            "32/32 [==============================] - ETA: 0s - loss: 0.1177 - sparse_categorical_accuracy: 0.9760\n",
            "Epoch 6: saving model to training_1/cp.ckpt\n",
            "32/32 [==============================] - 0s 15ms/step - loss: 0.1177 - sparse_categorical_accuracy: 0.9760 - val_loss: 0.4380 - val_sparse_categorical_accuracy: 0.8600\n",
            "Epoch 7/10\n",
            "30/32 [===========================>..] - ETA: 0s - loss: 0.0843 - sparse_categorical_accuracy: 0.9875\n",
            "Epoch 7: saving model to training_1/cp.ckpt\n",
            "32/32 [==============================] - 0s 14ms/step - loss: 0.0849 - sparse_categorical_accuracy: 0.9870 - val_loss: 0.3935 - val_sparse_categorical_accuracy: 0.8800\n",
            "Epoch 8/10\n",
            "27/32 [========================>.....] - ETA: 0s - loss: 0.0644 - sparse_categorical_accuracy: 0.9919\n",
            "Epoch 8: saving model to training_1/cp.ckpt\n",
            "32/32 [==============================] - 0s 15ms/step - loss: 0.0640 - sparse_categorical_accuracy: 0.9920 - val_loss: 0.4087 - val_sparse_categorical_accuracy: 0.8640\n",
            "Epoch 9/10\n",
            "27/32 [========================>.....] - ETA: 0s - loss: 0.0572 - sparse_categorical_accuracy: 0.9954\n",
            "Epoch 9: saving model to training_1/cp.ckpt\n",
            "32/32 [==============================] - 0s 14ms/step - loss: 0.0543 - sparse_categorical_accuracy: 0.9960 - val_loss: 0.4098 - val_sparse_categorical_accuracy: 0.8540\n",
            "Epoch 10/10\n",
            "30/32 [===========================>..] - ETA: 0s - loss: 0.0412 - sparse_categorical_accuracy: 0.9969\n",
            "Epoch 10: saving model to training_1/cp.ckpt\n",
            "32/32 [==============================] - 1s 16ms/step - loss: 0.0405 - sparse_categorical_accuracy: 0.9970 - val_loss: 0.4005 - val_sparse_categorical_accuracy: 0.8780\n"
          ]
        },
        {
          "output_type": "execute_result",
          "data": {
            "text/plain": [
              "<keras.src.callbacks.History at 0x791b8faddf90>"
            ]
          },
          "metadata": {},
          "execution_count": 6
        }
      ]
    },
    {
      "cell_type": "code",
      "source": [
        "os.listdir(checkpoint_dir)"
      ],
      "metadata": {
        "colab": {
          "base_uri": "https://localhost:8080/"
        },
        "id": "PEfNuj9LunJl",
        "outputId": "38ba82e2-43d2-4d9a-aaf1-ff079f07106c"
      },
      "execution_count": 7,
      "outputs": [
        {
          "output_type": "execute_result",
          "data": {
            "text/plain": [
              "['checkpoint', 'cp.ckpt.data-00000-of-00001', 'cp.ckpt.index']"
            ]
          },
          "metadata": {},
          "execution_count": 7
        }
      ]
    },
    {
      "cell_type": "code",
      "source": [
        "model = create_model()\n",
        "loss, acc = model.evaluate(test_images,test_labels,verbose=2)\n",
        "print(f\"Niewytrenowany model -> accuracy: {100*acc:5.2f} %\")"
      ],
      "metadata": {
        "colab": {
          "base_uri": "https://localhost:8080/"
        },
        "id": "V8RnB1E0uuEO",
        "outputId": "6340426d-b030-4de6-ac49-94c2499a9583"
      },
      "execution_count": 9,
      "outputs": [
        {
          "output_type": "stream",
          "name": "stdout",
          "text": [
            "32/32 - 0s - loss: 2.3279 - sparse_categorical_accuracy: 0.1270 - 196ms/epoch - 6ms/step\n",
            "Niewytrenowany model -> accuracy: 12.70 %\n"
          ]
        }
      ]
    },
    {
      "cell_type": "code",
      "source": [
        "model.load_weights(checkpoint_path)\n",
        "loss, acc = model.evaluate(test_images,test_labels,verbose=2)\n",
        "print(f\"model z odtworzonymi wagami -> accuracy: {100*acc:5.2f} %\")\n"
      ],
      "metadata": {
        "colab": {
          "base_uri": "https://localhost:8080/"
        },
        "id": "-t0CYy1bvNIu",
        "outputId": "9a43389f-5c44-4040-956d-19cdcc55e301"
      },
      "execution_count": 10,
      "outputs": [
        {
          "output_type": "stream",
          "name": "stdout",
          "text": [
            "32/32 - 0s - loss: 0.4005 - sparse_categorical_accuracy: 0.8780 - 94ms/epoch - 3ms/step\n",
            "model z odtworzonymi wagami -> accuracy: 87.80 %\n"
          ]
        }
      ]
    },
    {
      "cell_type": "code",
      "source": [
        "#oddzwanianie do punktu kontrolnego\n",
        "checkpoint_path = \"training_2/cp-{epoch:04d}.ckpt\"\n",
        "checkpoint_dir = os.path.dirname(checkpoint_path)\n",
        "\n",
        "batch_size = 32\n",
        "\n",
        "cp_callback = tf.keras.callbacks.ModelCheckpoint(\n",
        "                                                filepath=checkpoint_path,\n",
        "                                                save_weights_only=True,\n",
        "                                                verbose=1,\n",
        "                                                save_freq=5*batch_size)\n",
        "\n",
        "model = create_model()\n",
        "model.save_weights(checkpoint_path.format(epoch=0))\n",
        "\n",
        "model.fit(train_images,\n",
        "          train_labels,\n",
        "          epochs=50,\n",
        "          validation_data=(test_images, test_labels),\n",
        "          callbacks=[cp_callback],\n",
        "          batch_size=batch_size,\n",
        "          verbose=0)"
      ],
      "metadata": {
        "colab": {
          "base_uri": "https://localhost:8080/"
        },
        "id": "q2sDqzBKvpDX",
        "outputId": "f94f5b67-0f7e-478e-d48a-996e139d9952"
      },
      "execution_count": 11,
      "outputs": [
        {
          "output_type": "stream",
          "name": "stdout",
          "text": [
            "\n",
            "Epoch 5: saving model to training_2/cp-0005.ckpt\n",
            "\n",
            "Epoch 10: saving model to training_2/cp-0010.ckpt\n",
            "\n",
            "Epoch 15: saving model to training_2/cp-0015.ckpt\n",
            "\n",
            "Epoch 20: saving model to training_2/cp-0020.ckpt\n",
            "\n",
            "Epoch 25: saving model to training_2/cp-0025.ckpt\n",
            "\n",
            "Epoch 30: saving model to training_2/cp-0030.ckpt\n",
            "\n",
            "Epoch 35: saving model to training_2/cp-0035.ckpt\n",
            "\n",
            "Epoch 40: saving model to training_2/cp-0040.ckpt\n",
            "\n",
            "Epoch 45: saving model to training_2/cp-0045.ckpt\n",
            "\n",
            "Epoch 50: saving model to training_2/cp-0050.ckpt\n"
          ]
        },
        {
          "output_type": "execute_result",
          "data": {
            "text/plain": [
              "<keras.src.callbacks.History at 0x791b8c48eb30>"
            ]
          },
          "metadata": {},
          "execution_count": 11
        }
      ]
    },
    {
      "cell_type": "code",
      "source": [
        "os.listdir(checkpoint_dir)"
      ],
      "metadata": {
        "colab": {
          "base_uri": "https://localhost:8080/"
        },
        "id": "uPVb9WP6xkpg",
        "outputId": "28f29bc8-0848-4b3c-d923-e737694c4582"
      },
      "execution_count": 12,
      "outputs": [
        {
          "output_type": "execute_result",
          "data": {
            "text/plain": [
              "['checkpoint',\n",
              " 'cp-0025.ckpt.index',\n",
              " 'cp-0020.ckpt.data-00000-of-00001',\n",
              " 'cp-0000.ckpt.data-00000-of-00001',\n",
              " 'cp-0025.ckpt.data-00000-of-00001',\n",
              " 'cp-0050.ckpt.data-00000-of-00001',\n",
              " 'cp-0040.ckpt.index',\n",
              " 'cp-0000.ckpt.index',\n",
              " 'cp-0010.ckpt.data-00000-of-00001',\n",
              " 'cp-0015.ckpt.index',\n",
              " 'cp-0040.ckpt.data-00000-of-00001',\n",
              " 'cp-0020.ckpt.index',\n",
              " 'cp-0010.ckpt.index',\n",
              " 'cp-0030.ckpt.index',\n",
              " 'cp-0035.ckpt.index',\n",
              " 'cp-0045.ckpt.index',\n",
              " 'cp-0050.ckpt.index',\n",
              " 'cp-0005.ckpt.index',\n",
              " 'cp-0035.ckpt.data-00000-of-00001',\n",
              " 'cp-0045.ckpt.data-00000-of-00001',\n",
              " 'cp-0015.ckpt.data-00000-of-00001',\n",
              " 'cp-0030.ckpt.data-00000-of-00001',\n",
              " 'cp-0005.ckpt.data-00000-of-00001']"
            ]
          },
          "metadata": {},
          "execution_count": 12
        }
      ]
    },
    {
      "cell_type": "code",
      "source": [
        "latest = tf.train.latest_checkpoint(checkpoint_dir)\n",
        "latest"
      ],
      "metadata": {
        "colab": {
          "base_uri": "https://localhost:8080/",
          "height": 35
        },
        "id": "mgRykMNoxxTI",
        "outputId": "93c02b65-6bfc-4474-f7e5-f6f73966a189"
      },
      "execution_count": 13,
      "outputs": [
        {
          "output_type": "execute_result",
          "data": {
            "text/plain": [
              "'training_2/cp-0050.ckpt'"
            ],
            "application/vnd.google.colaboratory.intrinsic+json": {
              "type": "string"
            }
          },
          "metadata": {},
          "execution_count": 13
        }
      ]
    },
    {
      "cell_type": "code",
      "source": [
        "from ast import mod\n",
        "#resetowanie modelu i załadowanie ostatniego punnktu kontrolnego\n",
        "model = create_model()\n",
        "model.load_weights(latest)\n",
        "loss, acc = model.evaluate(test_images,test_labels,verbose=2)\n",
        "print(f\"model z odtworzonymi wagami (latest) -> accuracy: {100*acc:5.2f} %\")"
      ],
      "metadata": {
        "colab": {
          "base_uri": "https://localhost:8080/"
        },
        "id": "A9UqhsJWySWQ",
        "outputId": "14bffcd3-91c1-4bbf-fe1f-ca3a9f0cc844"
      },
      "execution_count": 14,
      "outputs": [
        {
          "output_type": "stream",
          "name": "stdout",
          "text": [
            "32/32 - 0s - loss: 0.4944 - sparse_categorical_accuracy: 0.8700 - 207ms/epoch - 6ms/step\n",
            "model z odtworzonymi wagami (latest) -> accuracy: 87.00 %\n"
          ]
        }
      ]
    },
    {
      "cell_type": "code",
      "source": [
        "#zapis ręczny wag\n",
        "model.save_weights('./checpoints/my_checkpoint')\n",
        "model = create_model()\n",
        "model.load_weights('./checpoints/my_checkpoint')\n",
        "\n",
        "loss, acc = model.evaluate(test_images,test_labels,verbose=2)\n",
        "print(f\"model z odtworzonymi wagami (zapis ręczny) -> accuracy: {100*acc:5.2f} %\")"
      ],
      "metadata": {
        "colab": {
          "base_uri": "https://localhost:8080/"
        },
        "id": "0hU4cCo9yxF7",
        "outputId": "ccd70fd2-87d6-4104-8e6f-77804f84a756"
      },
      "execution_count": 15,
      "outputs": [
        {
          "output_type": "stream",
          "name": "stdout",
          "text": [
            "32/32 - 0s - loss: 0.4944 - sparse_categorical_accuracy: 0.8700 - 205ms/epoch - 6ms/step\n",
            "model z odtworzonymi wagami (zapis ręczny) -> accuracy: 87.00 %\n"
          ]
        }
      ]
    },
    {
      "cell_type": "code",
      "source": [
        "#zapisywanie całego modelu\n",
        "\n",
        "model = create_model()\n",
        "model.fit(train_images, train_labels, epochs=5)\n"
      ],
      "metadata": {
        "colab": {
          "base_uri": "https://localhost:8080/"
        },
        "id": "3cwhxV5Kzgvv",
        "outputId": "0a4ada63-4997-4921-f581-4462687af30b"
      },
      "execution_count": 16,
      "outputs": [
        {
          "output_type": "stream",
          "name": "stdout",
          "text": [
            "Epoch 1/5\n",
            "32/32 [==============================] - 1s 8ms/step - loss: 1.1056 - sparse_categorical_accuracy: 0.6850\n",
            "Epoch 2/5\n",
            "32/32 [==============================] - 0s 9ms/step - loss: 0.4097 - sparse_categorical_accuracy: 0.8940\n",
            "Epoch 3/5\n",
            "32/32 [==============================] - 0s 9ms/step - loss: 0.2760 - sparse_categorical_accuracy: 0.9260\n",
            "Epoch 4/5\n",
            "32/32 [==============================] - 0s 8ms/step - loss: 0.2063 - sparse_categorical_accuracy: 0.9560\n",
            "Epoch 5/5\n",
            "32/32 [==============================] - 0s 9ms/step - loss: 0.1496 - sparse_categorical_accuracy: 0.9690\n"
          ]
        },
        {
          "output_type": "execute_result",
          "data": {
            "text/plain": [
              "<keras.src.callbacks.History at 0x791b8c4eff40>"
            ]
          },
          "metadata": {},
          "execution_count": 16
        }
      ]
    },
    {
      "cell_type": "code",
      "source": [
        "!mkdir -p saved_model\n",
        "model.save('saved_model/my_model')"
      ],
      "metadata": {
        "id": "cDQQUwLLz0Hx"
      },
      "execution_count": 17,
      "outputs": []
    },
    {
      "cell_type": "code",
      "source": [
        "!ls saved_model/"
      ],
      "metadata": {
        "colab": {
          "base_uri": "https://localhost:8080/"
        },
        "id": "aEaYm6qD0DIb",
        "outputId": "0162c71d-5602-49be-b433-9ac4ba9dd251"
      },
      "execution_count": 19,
      "outputs": [
        {
          "output_type": "stream",
          "name": "stdout",
          "text": [
            "my_model\n"
          ]
        }
      ]
    },
    {
      "cell_type": "code",
      "source": [
        "!ls saved_model/my_model"
      ],
      "metadata": {
        "colab": {
          "base_uri": "https://localhost:8080/"
        },
        "id": "FFgaSOfB0J_O",
        "outputId": "7425295e-5faf-4593-aefc-252209b06a31"
      },
      "execution_count": 20,
      "outputs": [
        {
          "output_type": "stream",
          "name": "stdout",
          "text": [
            "assets\tfingerprint.pb\tkeras_metadata.pb  saved_model.pb  variables\n"
          ]
        }
      ]
    },
    {
      "cell_type": "code",
      "source": [
        "new_model = tf.keras.models.load_model('saved_model/my_model')\n",
        "\n",
        "new_model.summary()"
      ],
      "metadata": {
        "colab": {
          "base_uri": "https://localhost:8080/"
        },
        "id": "D4xiub0i0USW",
        "outputId": "9b36c7d1-315c-41dc-80a1-44b77bc23ee2"
      },
      "execution_count": 21,
      "outputs": [
        {
          "output_type": "stream",
          "name": "stdout",
          "text": [
            "Model: \"sequential_6\"\n",
            "_________________________________________________________________\n",
            " Layer (type)                Output Shape              Param #   \n",
            "=================================================================\n",
            " dense_12 (Dense)            (None, 512)               401920    \n",
            "                                                                 \n",
            " dropout_6 (Dropout)         (None, 512)               0         \n",
            "                                                                 \n",
            " dense_13 (Dense)            (None, 10)                5130      \n",
            "                                                                 \n",
            "=================================================================\n",
            "Total params: 407050 (1.55 MB)\n",
            "Trainable params: 407050 (1.55 MB)\n",
            "Non-trainable params: 0 (0.00 Byte)\n",
            "_________________________________________________________________\n"
          ]
        }
      ]
    },
    {
      "cell_type": "code",
      "source": [
        "loss, acc = model.evaluate(test_images,test_labels,verbose=2)\n",
        "print(f\"model odtworzonego z zapisu modelu -> accuracy: {100*acc:5.2f} %\")\n"
      ],
      "metadata": {
        "colab": {
          "base_uri": "https://localhost:8080/"
        },
        "id": "UmZBp0-D0nsb",
        "outputId": "04253b4e-2787-46ea-d41c-edea3457e3bb"
      },
      "execution_count": 22,
      "outputs": [
        {
          "output_type": "stream",
          "name": "stdout",
          "text": [
            "32/32 - 0s - loss: 0.4218 - sparse_categorical_accuracy: 0.8690 - 314ms/epoch - 10ms/step\n",
            "model z odtworzonymi wagami (zapis ręczny) -> accuracy: 86.90 %\n"
          ]
        }
      ]
    },
    {
      "cell_type": "code",
      "source": [
        "#format hdf5\n",
        "\n",
        "model = create_model()\n",
        "model.fit(train_images, train_labels, epochs=5)"
      ],
      "metadata": {
        "colab": {
          "base_uri": "https://localhost:8080/"
        },
        "id": "KUzSZDcO0v_x",
        "outputId": "a0d4d3a2-eb46-4ab1-9bf2-5c96c85eb3ae"
      },
      "execution_count": 23,
      "outputs": [
        {
          "output_type": "stream",
          "name": "stdout",
          "text": [
            "Epoch 1/5\n",
            "32/32 [==============================] - 1s 14ms/step - loss: 1.2112 - sparse_categorical_accuracy: 0.6560\n",
            "Epoch 2/5\n",
            "32/32 [==============================] - 0s 13ms/step - loss: 0.4338 - sparse_categorical_accuracy: 0.8770\n",
            "Epoch 3/5\n",
            "32/32 [==============================] - 0s 13ms/step - loss: 0.3084 - sparse_categorical_accuracy: 0.9160\n",
            "Epoch 4/5\n",
            "32/32 [==============================] - 0s 13ms/step - loss: 0.2135 - sparse_categorical_accuracy: 0.9460\n",
            "Epoch 5/5\n",
            "32/32 [==============================] - 0s 11ms/step - loss: 0.1662 - sparse_categorical_accuracy: 0.9610\n"
          ]
        },
        {
          "output_type": "execute_result",
          "data": {
            "text/plain": [
              "<keras.src.callbacks.History at 0x791b7ff248b0>"
            ]
          },
          "metadata": {},
          "execution_count": 23
        }
      ]
    },
    {
      "cell_type": "code",
      "source": [
        "model.save('my_model.h5')"
      ],
      "metadata": {
        "id": "s51AX05_08Ra"
      },
      "execution_count": 25,
      "outputs": []
    },
    {
      "cell_type": "code",
      "source": [
        "new_model = tf.keras.models.load_model('my_model.h5')\n",
        "new_model.summary()"
      ],
      "metadata": {
        "colab": {
          "base_uri": "https://localhost:8080/"
        },
        "id": "awGMU7HJ1I0Z",
        "outputId": "85ef63dc-f4ba-4cfa-8752-1382c5cce3af"
      },
      "execution_count": 26,
      "outputs": [
        {
          "output_type": "stream",
          "name": "stdout",
          "text": [
            "Model: \"sequential_7\"\n",
            "_________________________________________________________________\n",
            " Layer (type)                Output Shape              Param #   \n",
            "=================================================================\n",
            " dense_14 (Dense)            (None, 512)               401920    \n",
            "                                                                 \n",
            " dropout_7 (Dropout)         (None, 512)               0         \n",
            "                                                                 \n",
            " dense_15 (Dense)            (None, 10)                5130      \n",
            "                                                                 \n",
            "=================================================================\n",
            "Total params: 407050 (1.55 MB)\n",
            "Trainable params: 407050 (1.55 MB)\n",
            "Non-trainable params: 0 (0.00 Byte)\n",
            "_________________________________________________________________\n"
          ]
        }
      ]
    },
    {
      "cell_type": "code",
      "source": [
        "loss, acc = new_model.evaluate(test_images,test_labels,verbose=2)\n",
        "print(f\"model odtworzonego z zapisu HDF5 modelu -> accuracy: {100*acc:5.2f} %\")"
      ],
      "metadata": {
        "colab": {
          "base_uri": "https://localhost:8080/"
        },
        "id": "weYtgtQD1gtq",
        "outputId": "530b7d54-58fb-4922-c9ca-151c0661c46f"
      },
      "execution_count": 28,
      "outputs": [
        {
          "output_type": "stream",
          "name": "stdout",
          "text": [
            "32/32 - 0s - loss: 0.4488 - sparse_categorical_accuracy: 0.8660 - 204ms/epoch - 6ms/step\n",
            "model odtworzonego z zapisu HDF5 modelu -> accuracy: 86.60 %\n"
          ]
        }
      ]
    }
  ]
}